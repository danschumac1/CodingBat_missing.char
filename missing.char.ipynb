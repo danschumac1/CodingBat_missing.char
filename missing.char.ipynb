{
 "cells": [
  {
   "cell_type": "markdown",
   "id": "0d415ca6",
   "metadata": {},
   "source": [
    "# Warmup-1 missing_char"
   ]
  },
  {
   "cell_type": "markdown",
   "id": "23daaac2",
   "metadata": {},
   "source": [
    "\n",
    "Given a non-empty string and an int n, return a new string where the char at index n has been removed. The value of n will be a valid index of a char in the original string (i.e. n will be in the range 0..len(str)-1 inclusive).\n",
    "\n",
    "\n",
    "missing_char('kitten', 1) → 'ktten'\n",
    "missing_char('kitten', 0) → 'itten'\n",
    "missing_char('kitten', 4) → 'kittn'"
   ]
  },
  {
   "cell_type": "code",
   "execution_count": 1,
   "id": "31361e9e",
   "metadata": {},
   "outputs": [],
   "source": [
    "def missing_char(str, n):\n",
    "  return str[:n] + str[n+1:]"
   ]
  }
 ],
 "metadata": {
  "kernelspec": {
   "display_name": "Python 3 (ipykernel)",
   "language": "python",
   "name": "python3"
  },
  "language_info": {
   "codemirror_mode": {
    "name": "ipython",
    "version": 3
   },
   "file_extension": ".py",
   "mimetype": "text/x-python",
   "name": "python",
   "nbconvert_exporter": "python",
   "pygments_lexer": "ipython3",
   "version": "3.9.12"
  }
 },
 "nbformat": 4,
 "nbformat_minor": 5
}
